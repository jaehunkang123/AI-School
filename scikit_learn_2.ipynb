{
  "nbformat": 4,
  "nbformat_minor": 0,
  "metadata": {
    "colab": {
      "provenance": [],
      "authorship_tag": "ABX9TyNi5kCU5VQNsVugQoc8MMIh",
      "include_colab_link": true
    },
    "kernelspec": {
      "name": "python3",
      "display_name": "Python 3"
    },
    "language_info": {
      "name": "python"
    }
  },
  "cells": [
    {
      "cell_type": "markdown",
      "metadata": {
        "id": "view-in-github",
        "colab_type": "text"
      },
      "source": [
        "<a href=\"https://colab.research.google.com/github/jaehunkang123/ai-course-ms-/blob/main/scikit_learn_2.ipynb\" target=\"_parent\"><img src=\"https://colab.research.google.com/assets/colab-badge.svg\" alt=\"Open In Colab\"/></a>"
      ]
    },
    {
      "cell_type": "code",
      "execution_count": null,
      "metadata": {
        "id": "O0g0gI3reEAD"
      },
      "outputs": [],
      "source": [
        "import numpy as np\n",
        "import pandas as pd\n",
        "import sklearn \n",
        "import matplotlib.pyplot as plt"
      ]
    },
    {
      "cell_type": "code",
      "source": [
        "from sklearn.datasets import load_diabetes\n",
        "diatbetes = load_diabetes()"
      ],
      "metadata": {
        "id": "q3gh4mO9faBW"
      },
      "execution_count": null,
      "outputs": []
    },
    {
      "cell_type": "code",
      "source": [
        "print(diatbetes.DESCR)"
      ],
      "metadata": {
        "colab": {
          "base_uri": "https://localhost:8080/"
        },
        "id": "KtZh95P0gYTH",
        "outputId": "ff9d2928-28d7-4d42-c32f-2549dedea23f"
      },
      "execution_count": null,
      "outputs": [
        {
          "output_type": "stream",
          "name": "stdout",
          "text": [
            ".. _diabetes_dataset:\n",
            "\n",
            "Diabetes dataset\n",
            "----------------\n",
            "\n",
            "Ten baseline variables, age, sex, body mass index, average blood\n",
            "pressure, and six blood serum measurements were obtained for each of n =\n",
            "442 diabetes patients, as well as the response of interest, a\n",
            "quantitative measure of disease progression one year after baseline.\n",
            "\n",
            "**Data Set Characteristics:**\n",
            "\n",
            "  :Number of Instances: 442\n",
            "\n",
            "  :Number of Attributes: First 10 columns are numeric predictive values\n",
            "\n",
            "  :Target: Column 11 is a quantitative measure of disease progression one year after baseline\n",
            "\n",
            "  :Attribute Information:\n",
            "      - age     age in years\n",
            "      - sex\n",
            "      - bmi     body mass index\n",
            "      - bp      average blood pressure\n",
            "      - s1      tc, total serum cholesterol\n",
            "      - s2      ldl, low-density lipoproteins\n",
            "      - s3      hdl, high-density lipoproteins\n",
            "      - s4      tch, total cholesterol / HDL\n",
            "      - s5      ltg, possibly log of serum triglycerides level\n",
            "      - s6      glu, blood sugar level\n",
            "\n",
            "Note: Each of these 10 feature variables have been mean centered and scaled by the standard deviation times the square root of `n_samples` (i.e. the sum of squares of each column totals 1).\n",
            "\n",
            "Source URL:\n",
            "https://www4.stat.ncsu.edu/~boos/var.select/diabetes.html\n",
            "\n",
            "For more information see:\n",
            "Bradley Efron, Trevor Hastie, Iain Johnstone and Robert Tibshirani (2004) \"Least Angle Regression,\" Annals of Statistics (with discussion), 407-499.\n",
            "(https://web.stanford.edu/~hastie/Papers/LARS/LeastAngle_2002.pdf)\n",
            "\n"
          ]
        }
      ]
    },
    {
      "cell_type": "code",
      "source": [
        "data = diatbetes.data\n",
        "label = diatbetes.target\n",
        "columns = diatbetes.feature_names"
      ],
      "metadata": {
        "id": "_J40VamrhUM9"
      },
      "execution_count": null,
      "outputs": []
    },
    {
      "cell_type": "code",
      "source": [
        "data = pd.DataFrame(data, columns = columns)\n",
        "data.head()"
      ],
      "metadata": {
        "colab": {
          "base_uri": "https://localhost:8080/",
          "height": 206
        },
        "id": "so3GlORoirKe",
        "outputId": "aaa4324c-4270-4cbb-d4c6-d6528fee9e9f"
      },
      "execution_count": null,
      "outputs": [
        {
          "output_type": "execute_result",
          "data": {
            "text/plain": [
              "        age       sex       bmi        bp        s1        s2        s3  \\\n",
              "0  0.038076  0.050680  0.061696  0.021872 -0.044223 -0.034821 -0.043401   \n",
              "1 -0.001882 -0.044642 -0.051474 -0.026328 -0.008449 -0.019163  0.074412   \n",
              "2  0.085299  0.050680  0.044451 -0.005670 -0.045599 -0.034194 -0.032356   \n",
              "3 -0.089063 -0.044642 -0.011595 -0.036656  0.012191  0.024991 -0.036038   \n",
              "4  0.005383 -0.044642 -0.036385  0.021872  0.003935  0.015596  0.008142   \n",
              "\n",
              "         s4        s5        s6  \n",
              "0 -0.002592  0.019907 -0.017646  \n",
              "1 -0.039493 -0.068332 -0.092204  \n",
              "2 -0.002592  0.002861 -0.025930  \n",
              "3  0.034309  0.022688 -0.009362  \n",
              "4 -0.002592 -0.031988 -0.046641  "
            ],
            "text/html": [
              "\n",
              "  <div id=\"df-93e8cfd4-6a81-4fbc-9da7-13ac1dfcefb6\">\n",
              "    <div class=\"colab-df-container\">\n",
              "      <div>\n",
              "<style scoped>\n",
              "    .dataframe tbody tr th:only-of-type {\n",
              "        vertical-align: middle;\n",
              "    }\n",
              "\n",
              "    .dataframe tbody tr th {\n",
              "        vertical-align: top;\n",
              "    }\n",
              "\n",
              "    .dataframe thead th {\n",
              "        text-align: right;\n",
              "    }\n",
              "</style>\n",
              "<table border=\"1\" class=\"dataframe\">\n",
              "  <thead>\n",
              "    <tr style=\"text-align: right;\">\n",
              "      <th></th>\n",
              "      <th>age</th>\n",
              "      <th>sex</th>\n",
              "      <th>bmi</th>\n",
              "      <th>bp</th>\n",
              "      <th>s1</th>\n",
              "      <th>s2</th>\n",
              "      <th>s3</th>\n",
              "      <th>s4</th>\n",
              "      <th>s5</th>\n",
              "      <th>s6</th>\n",
              "    </tr>\n",
              "  </thead>\n",
              "  <tbody>\n",
              "    <tr>\n",
              "      <th>0</th>\n",
              "      <td>0.038076</td>\n",
              "      <td>0.050680</td>\n",
              "      <td>0.061696</td>\n",
              "      <td>0.021872</td>\n",
              "      <td>-0.044223</td>\n",
              "      <td>-0.034821</td>\n",
              "      <td>-0.043401</td>\n",
              "      <td>-0.002592</td>\n",
              "      <td>0.019907</td>\n",
              "      <td>-0.017646</td>\n",
              "    </tr>\n",
              "    <tr>\n",
              "      <th>1</th>\n",
              "      <td>-0.001882</td>\n",
              "      <td>-0.044642</td>\n",
              "      <td>-0.051474</td>\n",
              "      <td>-0.026328</td>\n",
              "      <td>-0.008449</td>\n",
              "      <td>-0.019163</td>\n",
              "      <td>0.074412</td>\n",
              "      <td>-0.039493</td>\n",
              "      <td>-0.068332</td>\n",
              "      <td>-0.092204</td>\n",
              "    </tr>\n",
              "    <tr>\n",
              "      <th>2</th>\n",
              "      <td>0.085299</td>\n",
              "      <td>0.050680</td>\n",
              "      <td>0.044451</td>\n",
              "      <td>-0.005670</td>\n",
              "      <td>-0.045599</td>\n",
              "      <td>-0.034194</td>\n",
              "      <td>-0.032356</td>\n",
              "      <td>-0.002592</td>\n",
              "      <td>0.002861</td>\n",
              "      <td>-0.025930</td>\n",
              "    </tr>\n",
              "    <tr>\n",
              "      <th>3</th>\n",
              "      <td>-0.089063</td>\n",
              "      <td>-0.044642</td>\n",
              "      <td>-0.011595</td>\n",
              "      <td>-0.036656</td>\n",
              "      <td>0.012191</td>\n",
              "      <td>0.024991</td>\n",
              "      <td>-0.036038</td>\n",
              "      <td>0.034309</td>\n",
              "      <td>0.022688</td>\n",
              "      <td>-0.009362</td>\n",
              "    </tr>\n",
              "    <tr>\n",
              "      <th>4</th>\n",
              "      <td>0.005383</td>\n",
              "      <td>-0.044642</td>\n",
              "      <td>-0.036385</td>\n",
              "      <td>0.021872</td>\n",
              "      <td>0.003935</td>\n",
              "      <td>0.015596</td>\n",
              "      <td>0.008142</td>\n",
              "      <td>-0.002592</td>\n",
              "      <td>-0.031988</td>\n",
              "      <td>-0.046641</td>\n",
              "    </tr>\n",
              "  </tbody>\n",
              "</table>\n",
              "</div>\n",
              "      <button class=\"colab-df-convert\" onclick=\"convertToInteractive('df-93e8cfd4-6a81-4fbc-9da7-13ac1dfcefb6')\"\n",
              "              title=\"Convert this dataframe to an interactive table.\"\n",
              "              style=\"display:none;\">\n",
              "        \n",
              "  <svg xmlns=\"http://www.w3.org/2000/svg\" height=\"24px\"viewBox=\"0 0 24 24\"\n",
              "       width=\"24px\">\n",
              "    <path d=\"M0 0h24v24H0V0z\" fill=\"none\"/>\n",
              "    <path d=\"M18.56 5.44l.94 2.06.94-2.06 2.06-.94-2.06-.94-.94-2.06-.94 2.06-2.06.94zm-11 1L8.5 8.5l.94-2.06 2.06-.94-2.06-.94L8.5 2.5l-.94 2.06-2.06.94zm10 10l.94 2.06.94-2.06 2.06-.94-2.06-.94-.94-2.06-.94 2.06-2.06.94z\"/><path d=\"M17.41 7.96l-1.37-1.37c-.4-.4-.92-.59-1.43-.59-.52 0-1.04.2-1.43.59L10.3 9.45l-7.72 7.72c-.78.78-.78 2.05 0 2.83L4 21.41c.39.39.9.59 1.41.59.51 0 1.02-.2 1.41-.59l7.78-7.78 2.81-2.81c.8-.78.8-2.07 0-2.86zM5.41 20L4 18.59l7.72-7.72 1.47 1.35L5.41 20z\"/>\n",
              "  </svg>\n",
              "      </button>\n",
              "      \n",
              "  <style>\n",
              "    .colab-df-container {\n",
              "      display:flex;\n",
              "      flex-wrap:wrap;\n",
              "      gap: 12px;\n",
              "    }\n",
              "\n",
              "    .colab-df-convert {\n",
              "      background-color: #E8F0FE;\n",
              "      border: none;\n",
              "      border-radius: 50%;\n",
              "      cursor: pointer;\n",
              "      display: none;\n",
              "      fill: #1967D2;\n",
              "      height: 32px;\n",
              "      padding: 0 0 0 0;\n",
              "      width: 32px;\n",
              "    }\n",
              "\n",
              "    .colab-df-convert:hover {\n",
              "      background-color: #E2EBFA;\n",
              "      box-shadow: 0px 1px 2px rgba(60, 64, 67, 0.3), 0px 1px 3px 1px rgba(60, 64, 67, 0.15);\n",
              "      fill: #174EA6;\n",
              "    }\n",
              "\n",
              "    [theme=dark] .colab-df-convert {\n",
              "      background-color: #3B4455;\n",
              "      fill: #D2E3FC;\n",
              "    }\n",
              "\n",
              "    [theme=dark] .colab-df-convert:hover {\n",
              "      background-color: #434B5C;\n",
              "      box-shadow: 0px 1px 3px 1px rgba(0, 0, 0, 0.15);\n",
              "      filter: drop-shadow(0px 1px 2px rgba(0, 0, 0, 0.3));\n",
              "      fill: #FFFFFF;\n",
              "    }\n",
              "  </style>\n",
              "\n",
              "      <script>\n",
              "        const buttonEl =\n",
              "          document.querySelector('#df-93e8cfd4-6a81-4fbc-9da7-13ac1dfcefb6 button.colab-df-convert');\n",
              "        buttonEl.style.display =\n",
              "          google.colab.kernel.accessAllowed ? 'block' : 'none';\n",
              "\n",
              "        async function convertToInteractive(key) {\n",
              "          const element = document.querySelector('#df-93e8cfd4-6a81-4fbc-9da7-13ac1dfcefb6');\n",
              "          const dataTable =\n",
              "            await google.colab.kernel.invokeFunction('convertToInteractive',\n",
              "                                                     [key], {});\n",
              "          if (!dataTable) return;\n",
              "\n",
              "          const docLinkHtml = 'Like what you see? Visit the ' +\n",
              "            '<a target=\"_blank\" href=https://colab.research.google.com/notebooks/data_table.ipynb>data table notebook</a>'\n",
              "            + ' to learn more about interactive tables.';\n",
              "          element.innerHTML = '';\n",
              "          dataTable['output_type'] = 'display_data';\n",
              "          await google.colab.output.renderOutput(dataTable, element);\n",
              "          const docLink = document.createElement('div');\n",
              "          docLink.innerHTML = docLinkHtml;\n",
              "          element.appendChild(docLink);\n",
              "        }\n",
              "      </script>\n",
              "    </div>\n",
              "  </div>\n",
              "  "
            ]
          },
          "metadata": {},
          "execution_count": 15
        }
      ]
    },
    {
      "cell_type": "code",
      "source": [
        "data.shape"
      ],
      "metadata": {
        "colab": {
          "base_uri": "https://localhost:8080/"
        },
        "id": "JMPXuAtsi9sF",
        "outputId": "759c3f3e-da2b-4228-e112-75a52083aaa5"
      },
      "execution_count": null,
      "outputs": [
        {
          "output_type": "execute_result",
          "data": {
            "text/plain": [
              "(442, 10)"
            ]
          },
          "metadata": {},
          "execution_count": 16
        }
      ]
    },
    {
      "cell_type": "code",
      "source": [
        "# 당뇨병의 주요 원인은 무엇인가, 한번 <혈당수치>인 s6으로 해서 한번 예측한다.\n",
        "# simple linearregression은 하나의 수치만\n",
        "\n",
        "from sklearn.linear_model import LinearRegression\n",
        "sim_lr = LinearRegression()"
      ],
      "metadata": {
        "id": "_WvoL_DjjJuF"
      },
      "execution_count": null,
      "outputs": []
    },
    {
      "cell_type": "code",
      "source": [
        "from sklearn.model_selection import train_test_split\n",
        "X_train, X_test, y_train, y_test = train_test_split(\n",
        "                              data, label, test_size = 0.2, random_state=2023)\n"
      ],
      "metadata": {
        "id": "p85C_mc-kyvv"
      },
      "execution_count": null,
      "outputs": []
    },
    {
      "cell_type": "code",
      "source": [
        "# 혈당 수치\n",
        "# sklearn에서 그대로 사용할 수 없으니 원하는 numpy 배열로 바꿔야.\n",
        "# 하나의 차원으로 표현이 되는 데이터만 사용가능 > X_train['s6']에 .reshape()이 아닌 .values.reshape() 사용\n",
        "X_train['s6'].values.reshape((-1,1))"
      ],
      "metadata": {
        "colab": {
          "base_uri": "https://localhost:8080/"
        },
        "id": "oNm9sC2lk-kN",
        "outputId": "47c0efc8-4f10-4f41-a5e9-df903f1d6e3c"
      },
      "execution_count": null,
      "outputs": [
        {
          "output_type": "execute_result",
          "data": {
            "text/plain": [
              "array([[-0.04664087],\n",
              "       [ 0.03205916],\n",
              "       [ 0.03620126],\n",
              "       [-0.02593034],\n",
              "       [-0.01764613],\n",
              "       [ 0.02791705],\n",
              "       [ 0.00720652],\n",
              "       [ 0.01963284],\n",
              "       [-0.0010777 ],\n",
              "       [ 0.06933812],\n",
              "       [-0.03835666],\n",
              "       [-0.01350402],\n",
              "       [-0.01350402],\n",
              "       [ 0.01549073],\n",
              "       [ 0.04448548],\n",
              "       [-0.03421455],\n",
              "       [ 0.07348023],\n",
              "       [ 0.04034337],\n",
              "       [ 0.02791705],\n",
              "       [ 0.04448548],\n",
              "       [ 0.02377494],\n",
              "       [-0.03835666],\n",
              "       [-0.00936191],\n",
              "       [-0.0052198 ],\n",
              "       [ 0.00720652],\n",
              "       [ 0.02791705],\n",
              "       [ 0.04034337],\n",
              "       [-0.05906719],\n",
              "       [ 0.02791705],\n",
              "       [ 0.09833287],\n",
              "       [ 0.07348023],\n",
              "       [ 0.02791705],\n",
              "       [-0.0052198 ],\n",
              "       [-0.03421455],\n",
              "       [ 0.0569118 ],\n",
              "       [-0.04249877],\n",
              "       [-0.00936191],\n",
              "       [-0.03835666],\n",
              "       [ 0.06519601],\n",
              "       [-0.0010777 ],\n",
              "       [-0.01764613],\n",
              "       [-0.03835666],\n",
              "       [ 0.00720652],\n",
              "       [-0.03835666],\n",
              "       [-0.03835666],\n",
              "       [-0.0010777 ],\n",
              "       [-0.01764613],\n",
              "       [ 0.01134862],\n",
              "       [ 0.02791705],\n",
              "       [-0.0010777 ],\n",
              "       [-0.04664087],\n",
              "       [ 0.00306441],\n",
              "       [ 0.00306441],\n",
              "       [-0.03007245],\n",
              "       [-0.12948301],\n",
              "       [-0.01350402],\n",
              "       [ 0.04034337],\n",
              "       [ 0.08590655],\n",
              "       [ 0.09419076],\n",
              "       [ 0.00306441],\n",
              "       [ 0.04034337],\n",
              "       [-0.00936191],\n",
              "       [-0.0052198 ],\n",
              "       [ 0.04862759],\n",
              "       [-0.0010777 ],\n",
              "       [ 0.10661708],\n",
              "       [ 0.10661708],\n",
              "       [-0.03007245],\n",
              "       [-0.09220405],\n",
              "       [-0.05906719],\n",
              "       [-0.0052198 ],\n",
              "       [-0.0010777 ],\n",
              "       [-0.04249877],\n",
              "       [ 0.0569118 ],\n",
              "       [ 0.07348023],\n",
              "       [-0.00936191],\n",
              "       [ 0.04448548],\n",
              "       [ 0.08590655],\n",
              "       [-0.02593034],\n",
              "       [ 0.00306441],\n",
              "       [-0.03835666],\n",
              "       [ 0.01549073],\n",
              "       [-0.03835666],\n",
              "       [-0.06735141],\n",
              "       [ 0.02791705],\n",
              "       [ 0.01134862],\n",
              "       [ 0.02377494],\n",
              "       [-0.05906719],\n",
              "       [ 0.02791705],\n",
              "       [-0.05492509],\n",
              "       [-0.0632093 ],\n",
              "       [ 0.01134862],\n",
              "       [ 0.04448548],\n",
              "       [-0.06735141],\n",
              "       [ 0.08176444],\n",
              "       [ 0.04034337],\n",
              "       [-0.01764613],\n",
              "       [-0.01764613],\n",
              "       [-0.02178823],\n",
              "       [ 0.07348023],\n",
              "       [ 0.1190434 ],\n",
              "       [ 0.03205916],\n",
              "       [ 0.04034337],\n",
              "       [ 0.01549073],\n",
              "       [ 0.01134862],\n",
              "       [ 0.00306441],\n",
              "       [ 0.0569118 ],\n",
              "       [-0.01350402],\n",
              "       [-0.04249877],\n",
              "       [ 0.01549073],\n",
              "       [ 0.04034337],\n",
              "       [-0.08806194],\n",
              "       [-0.01764613],\n",
              "       [ 0.00306441],\n",
              "       [ 0.00306441],\n",
              "       [-0.10463037],\n",
              "       [-0.02593034],\n",
              "       [-0.0010777 ],\n",
              "       [ 0.02791705],\n",
              "       [ 0.00306441],\n",
              "       [ 0.01134862],\n",
              "       [ 0.01963284],\n",
              "       [-0.02593034],\n",
              "       [-0.02178823],\n",
              "       [ 0.01549073],\n",
              "       [ 0.06933812],\n",
              "       [-0.04249877],\n",
              "       [ 0.03620126],\n",
              "       [-0.0010777 ],\n",
              "       [-0.05078298],\n",
              "       [ 0.01963284],\n",
              "       [-0.03007245],\n",
              "       [ 0.02791705],\n",
              "       [-0.05492509],\n",
              "       [-0.02178823],\n",
              "       [ 0.00720652],\n",
              "       [ 0.01963284],\n",
              "       [-0.05492509],\n",
              "       [ 0.07348023],\n",
              "       [ 0.04448548],\n",
              "       [-0.0010777 ],\n",
              "       [-0.01764613],\n",
              "       [-0.03835666],\n",
              "       [-0.00936191],\n",
              "       [ 0.00720652],\n",
              "       [-0.04249877],\n",
              "       [-0.01764613],\n",
              "       [ 0.04034337],\n",
              "       [ 0.00720652],\n",
              "       [-0.05906719],\n",
              "       [ 0.03205916],\n",
              "       [-0.13776723],\n",
              "       [ 0.01549073],\n",
              "       [ 0.03620126],\n",
              "       [-0.04249877],\n",
              "       [ 0.12732762],\n",
              "       [-0.05492509],\n",
              "       [-0.0052198 ],\n",
              "       [-0.04664087],\n",
              "       [ 0.01549073],\n",
              "       [ 0.01549073],\n",
              "       [-0.0052198 ],\n",
              "       [ 0.05276969],\n",
              "       [-0.05492509],\n",
              "       [-0.01350402],\n",
              "       [-0.02178823],\n",
              "       [ 0.00306441],\n",
              "       [ 0.02377494],\n",
              "       [ 0.00306441],\n",
              "       [ 0.00720652],\n",
              "       [ 0.07348023],\n",
              "       [-0.09220405],\n",
              "       [ 0.13561183],\n",
              "       [-0.0010777 ],\n",
              "       [-0.05492509],\n",
              "       [-0.07563562],\n",
              "       [-0.05078298],\n",
              "       [ 0.01963284],\n",
              "       [-0.00936191],\n",
              "       [-0.07977773],\n",
              "       [-0.05078298],\n",
              "       [-0.05078298],\n",
              "       [-0.0010777 ],\n",
              "       [ 0.02377494],\n",
              "       [ 0.01549073],\n",
              "       [ 0.07348023],\n",
              "       [ 0.01963284],\n",
              "       [ 0.04034337],\n",
              "       [ 0.13146972],\n",
              "       [ 0.09004865],\n",
              "       [-0.00936191],\n",
              "       [ 0.03205916],\n",
              "       [ 0.07762233],\n",
              "       [-0.07977773],\n",
              "       [-0.01350402],\n",
              "       [-0.02178823],\n",
              "       [-0.07977773],\n",
              "       [-0.09634616],\n",
              "       [-0.01350402],\n",
              "       [ 0.01963284],\n",
              "       [-0.03007245],\n",
              "       [-0.05906719],\n",
              "       [-0.03421455],\n",
              "       [-0.05078298],\n",
              "       [ 0.06105391],\n",
              "       [-0.05492509],\n",
              "       [ 0.13561183],\n",
              "       [ 0.10661708],\n",
              "       [-0.05078298],\n",
              "       [-0.02178823],\n",
              "       [-0.06735141],\n",
              "       [ 0.05276969],\n",
              "       [-0.03835666],\n",
              "       [-0.07563562],\n",
              "       [-0.07149352],\n",
              "       [-0.03421455],\n",
              "       [-0.08391984],\n",
              "       [ 0.01963284],\n",
              "       [ 0.00720652],\n",
              "       [ 0.02377494],\n",
              "       [ 0.06933812],\n",
              "       [ 0.08176444],\n",
              "       [ 0.01549073],\n",
              "       [-0.0010777 ],\n",
              "       [ 0.01549073],\n",
              "       [ 0.04862759],\n",
              "       [-0.01350402],\n",
              "       [-0.07563562],\n",
              "       [-0.04664087],\n",
              "       [-0.07149352],\n",
              "       [-0.01764613],\n",
              "       [-0.03007245],\n",
              "       [ 0.04862759],\n",
              "       [ 0.08590655],\n",
              "       [-0.09220405],\n",
              "       [ 0.04448548],\n",
              "       [ 0.07762233],\n",
              "       [ 0.00720652],\n",
              "       [ 0.03620126],\n",
              "       [ 0.00306441],\n",
              "       [ 0.01963284],\n",
              "       [ 0.0569118 ],\n",
              "       [-0.01764613],\n",
              "       [ 0.04034337],\n",
              "       [-0.04249877],\n",
              "       [-0.05906719],\n",
              "       [-0.02593034],\n",
              "       [-0.08391984],\n",
              "       [-0.09220405],\n",
              "       [ 0.01134862],\n",
              "       [ 0.06105391],\n",
              "       [-0.0052198 ],\n",
              "       [ 0.00306441],\n",
              "       [ 0.06105391],\n",
              "       [ 0.00306441],\n",
              "       [ 0.06105391],\n",
              "       [ 0.01963284],\n",
              "       [ 0.03205916],\n",
              "       [ 0.00720652],\n",
              "       [-0.03421455],\n",
              "       [ 0.01963284],\n",
              "       [ 0.02377494],\n",
              "       [ 0.01963284],\n",
              "       [ 0.00306441],\n",
              "       [ 0.00306441],\n",
              "       [ 0.03620126],\n",
              "       [-0.07149352],\n",
              "       [ 0.01963284],\n",
              "       [-0.05906719],\n",
              "       [ 0.00720652],\n",
              "       [-0.02593034],\n",
              "       [ 0.01134862],\n",
              "       [ 0.06105391],\n",
              "       [-0.0052198 ],\n",
              "       [ 0.06933812],\n",
              "       [-0.08391984],\n",
              "       [ 0.02791705],\n",
              "       [-0.05492509],\n",
              "       [ 0.00720652],\n",
              "       [ 0.02791705],\n",
              "       [-0.03835666],\n",
              "       [-0.01764613],\n",
              "       [ 0.00720652],\n",
              "       [ 0.02377494],\n",
              "       [ 0.01549073],\n",
              "       [-0.01764613],\n",
              "       [-0.03007245],\n",
              "       [ 0.01134862],\n",
              "       [-0.04664087],\n",
              "       [-0.0052198 ],\n",
              "       [ 0.00720652],\n",
              "       [-0.05492509],\n",
              "       [-0.02178823],\n",
              "       [ 0.09833287],\n",
              "       [ 0.04862759],\n",
              "       [-0.0052198 ],\n",
              "       [ 0.06933812],\n",
              "       [-0.0632093 ],\n",
              "       [ 0.04448548],\n",
              "       [ 0.00306441],\n",
              "       [-0.01764613],\n",
              "       [ 0.00306441],\n",
              "       [-0.03007245],\n",
              "       [ 0.01963284],\n",
              "       [-0.0010777 ],\n",
              "       [-0.01350402],\n",
              "       [-0.06735141],\n",
              "       [-0.02593034],\n",
              "       [-0.0052198 ],\n",
              "       [ 0.0569118 ],\n",
              "       [ 0.10661708],\n",
              "       [ 0.06105391],\n",
              "       [ 0.01549073],\n",
              "       [-0.01764613],\n",
              "       [-0.03007245],\n",
              "       [-0.09634616],\n",
              "       [-0.04664087],\n",
              "       [-0.04249877],\n",
              "       [-0.05906719],\n",
              "       [ 0.04862759],\n",
              "       [ 0.00720652],\n",
              "       [ 0.08176444],\n",
              "       [ 0.03205916],\n",
              "       [ 0.02377494],\n",
              "       [ 0.03205916],\n",
              "       [-0.06735141],\n",
              "       [-0.02178823],\n",
              "       [-0.04664087],\n",
              "       [ 0.04034337],\n",
              "       [ 0.0569118 ],\n",
              "       [-0.07149352],\n",
              "       [ 0.00720652],\n",
              "       [ 0.01549073],\n",
              "       [-0.01350402],\n",
              "       [-0.05492509],\n",
              "       [-0.05078298],\n",
              "       [-0.07977773],\n",
              "       [-0.07149352],\n",
              "       [ 0.04862759],\n",
              "       [ 0.00306441],\n",
              "       [ 0.03205916],\n",
              "       [ 0.04862759],\n",
              "       [ 0.04034337],\n",
              "       [ 0.03205916],\n",
              "       [-0.05906719],\n",
              "       [-0.01350402],\n",
              "       [-0.02178823],\n",
              "       [-0.00936191],\n",
              "       [-0.06735141],\n",
              "       [ 0.00306441],\n",
              "       [ 0.0569118 ],\n",
              "       [-0.03421455],\n",
              "       [ 0.00720652]])"
            ]
          },
          "metadata": {},
          "execution_count": 25
        }
      ]
    },
    {
      "cell_type": "code",
      "source": [
        "# 학습\n",
        "sim_lr.fit(X_train['s6'].values.reshape((-1,1)), y_train)"
      ],
      "metadata": {
        "colab": {
          "base_uri": "https://localhost:8080/",
          "height": 75
        },
        "id": "xmDFexH0lPgW",
        "outputId": "1a01090a-7d77-4dbd-86b0-65729ff39d9d"
      },
      "execution_count": null,
      "outputs": [
        {
          "output_type": "execute_result",
          "data": {
            "text/plain": [
              "LinearRegression()"
            ],
            "text/html": [
              "<style>#sk-container-id-1 {color: black;background-color: white;}#sk-container-id-1 pre{padding: 0;}#sk-container-id-1 div.sk-toggleable {background-color: white;}#sk-container-id-1 label.sk-toggleable__label {cursor: pointer;display: block;width: 100%;margin-bottom: 0;padding: 0.3em;box-sizing: border-box;text-align: center;}#sk-container-id-1 label.sk-toggleable__label-arrow:before {content: \"▸\";float: left;margin-right: 0.25em;color: #696969;}#sk-container-id-1 label.sk-toggleable__label-arrow:hover:before {color: black;}#sk-container-id-1 div.sk-estimator:hover label.sk-toggleable__label-arrow:before {color: black;}#sk-container-id-1 div.sk-toggleable__content {max-height: 0;max-width: 0;overflow: hidden;text-align: left;background-color: #f0f8ff;}#sk-container-id-1 div.sk-toggleable__content pre {margin: 0.2em;color: black;border-radius: 0.25em;background-color: #f0f8ff;}#sk-container-id-1 input.sk-toggleable__control:checked~div.sk-toggleable__content {max-height: 200px;max-width: 100%;overflow: auto;}#sk-container-id-1 input.sk-toggleable__control:checked~label.sk-toggleable__label-arrow:before {content: \"▾\";}#sk-container-id-1 div.sk-estimator input.sk-toggleable__control:checked~label.sk-toggleable__label {background-color: #d4ebff;}#sk-container-id-1 div.sk-label input.sk-toggleable__control:checked~label.sk-toggleable__label {background-color: #d4ebff;}#sk-container-id-1 input.sk-hidden--visually {border: 0;clip: rect(1px 1px 1px 1px);clip: rect(1px, 1px, 1px, 1px);height: 1px;margin: -1px;overflow: hidden;padding: 0;position: absolute;width: 1px;}#sk-container-id-1 div.sk-estimator {font-family: monospace;background-color: #f0f8ff;border: 1px dotted black;border-radius: 0.25em;box-sizing: border-box;margin-bottom: 0.5em;}#sk-container-id-1 div.sk-estimator:hover {background-color: #d4ebff;}#sk-container-id-1 div.sk-parallel-item::after {content: \"\";width: 100%;border-bottom: 1px solid gray;flex-grow: 1;}#sk-container-id-1 div.sk-label:hover label.sk-toggleable__label {background-color: #d4ebff;}#sk-container-id-1 div.sk-serial::before {content: \"\";position: absolute;border-left: 1px solid gray;box-sizing: border-box;top: 0;bottom: 0;left: 50%;z-index: 0;}#sk-container-id-1 div.sk-serial {display: flex;flex-direction: column;align-items: center;background-color: white;padding-right: 0.2em;padding-left: 0.2em;position: relative;}#sk-container-id-1 div.sk-item {position: relative;z-index: 1;}#sk-container-id-1 div.sk-parallel {display: flex;align-items: stretch;justify-content: center;background-color: white;position: relative;}#sk-container-id-1 div.sk-item::before, #sk-container-id-1 div.sk-parallel-item::before {content: \"\";position: absolute;border-left: 1px solid gray;box-sizing: border-box;top: 0;bottom: 0;left: 50%;z-index: -1;}#sk-container-id-1 div.sk-parallel-item {display: flex;flex-direction: column;z-index: 1;position: relative;background-color: white;}#sk-container-id-1 div.sk-parallel-item:first-child::after {align-self: flex-end;width: 50%;}#sk-container-id-1 div.sk-parallel-item:last-child::after {align-self: flex-start;width: 50%;}#sk-container-id-1 div.sk-parallel-item:only-child::after {width: 0;}#sk-container-id-1 div.sk-dashed-wrapped {border: 1px dashed gray;margin: 0 0.4em 0.5em 0.4em;box-sizing: border-box;padding-bottom: 0.4em;background-color: white;}#sk-container-id-1 div.sk-label label {font-family: monospace;font-weight: bold;display: inline-block;line-height: 1.2em;}#sk-container-id-1 div.sk-label-container {text-align: center;}#sk-container-id-1 div.sk-container {/* jupyter's `normalize.less` sets `[hidden] { display: none; }` but bootstrap.min.css set `[hidden] { display: none !important; }` so we also need the `!important` here to be able to override the default hidden behavior on the sphinx rendered scikit-learn.org. See: https://github.com/scikit-learn/scikit-learn/issues/21755 */display: inline-block !important;position: relative;}#sk-container-id-1 div.sk-text-repr-fallback {display: none;}</style><div id=\"sk-container-id-1\" class=\"sk-top-container\"><div class=\"sk-text-repr-fallback\"><pre>LinearRegression()</pre><b>In a Jupyter environment, please rerun this cell to show the HTML representation or trust the notebook. <br />On GitHub, the HTML representation is unable to render, please try loading this page with nbviewer.org.</b></div><div class=\"sk-container\" hidden><div class=\"sk-item\"><div class=\"sk-estimator sk-toggleable\"><input class=\"sk-toggleable__control sk-hidden--visually\" id=\"sk-estimator-id-1\" type=\"checkbox\" checked><label for=\"sk-estimator-id-1\" class=\"sk-toggleable__label sk-toggleable__label-arrow\">LinearRegression</label><div class=\"sk-toggleable__content\"><pre>LinearRegression()</pre></div></div></div></div></div>"
            ]
          },
          "metadata": {},
          "execution_count": 26
        }
      ]
    },
    {
      "cell_type": "code",
      "source": [
        "# 예측\n",
        "y_pred = sim_lr.predict(X_test['s6'].values.reshape((-1,1))) # s6만 사용할 것으로, X_test['s6'], but 위와 동일하게 변환"
      ],
      "metadata": {
        "id": "4i_4fnVYmoKO"
      },
      "execution_count": null,
      "outputs": []
    },
    {
      "cell_type": "code",
      "source": [
        "# 결과\n",
        "from sklearn.metrics import r2_score\n",
        "print('단순 선형 회귀, R2: {:.2f}'.format(r2_score(y_test, y_pred)))\n",
        "print('단순 선형 회귀, 계수(w) : {:.4f}, 절편(b) : {:.4f}'.format(sim_lr.coef_[0], sim_lr.intercept_))"
      ],
      "metadata": {
        "colab": {
          "base_uri": "https://localhost:8080/"
        },
        "id": "CTlmpYe7nI9F",
        "outputId": "4406bc07-6643-422d-a99b-89e3716b355a"
      },
      "execution_count": null,
      "outputs": [
        {
          "output_type": "stream",
          "name": "stdout",
          "text": [
            "단순 선형 회귀, R2: 0.16\n",
            "단순 선형 회귀, 계수(w) : 586.7017, 절편(b) : 152.5980\n"
          ]
        }
      ]
    },
    {
      "cell_type": "code",
      "source": [
        "# linear line의 생성\n",
        "line_x = np.linspace(np.min(X_test['s6']), np.max(X_test['s6']), 10) # x는 테스트 값\n",
        "line_y = sim_lr.predict(line_x.reshape((-1,1))) # y는 예측한 값\n",
        "\n",
        "print(line_x)\n",
        "print(line_y)\n",
        "\n",
        "\n",
        "# test data\n",
        "plt.scatter(X_test['s6'], y_test, s=10, c='black')\n",
        "plt.plot(line_x, line_y, c='red')\n",
        "plt.legend(['Test Data Sample','Regression line'])\n",
        "\n",
        "# 결과는 정확도가 상당히 떨어진다. data의 오차가 높음"
      ],
      "metadata": {
        "colab": {
          "base_uri": "https://localhost:8080/",
          "height": 522
        },
        "id": "hFSAIIdCoJUe",
        "outputId": "ea9c4b56-bc8a-401c-c894-4837dd18d377"
      },
      "execution_count": null,
      "outputs": [
        {
          "output_type": "stream",
          "name": "stdout",
          "text": [
            "[-0.12948301 -0.10002803 -0.07057305 -0.04111806 -0.01166308  0.0177919\n",
            "  0.04724688  0.07670187  0.10615685  0.13561183]\n",
            "[ 76.63014404  93.91143293 111.19272182 128.4740107  145.75529959\n",
            " 163.03658848 180.31787736 197.59916625 214.88045514 232.16174402]\n"
          ]
        },
        {
          "output_type": "execute_result",
          "data": {
            "text/plain": [
              "<matplotlib.legend.Legend at 0x7fde4a169240>"
            ]
          },
          "metadata": {},
          "execution_count": 42
        },
        {
          "output_type": "display_data",
          "data": {
            "text/plain": [
              "<Figure size 640x480 with 1 Axes>"
            ],
            "image/png": "[encoded data removed]"
          },
          "metadata": {}
        }
      ]
    },
    {
      "cell_type": "code",
      "source": [
        "# Multiple Linear Regression\n",
        "# 학습\n",
        "mul_lr = LinearRegression()\n",
        "mul_lr.fit(X_train, y_train)\n",
        "y_pred = mul_lr.predict(X_test) # 여러개 사용할 때는 X_test만 입력"
      ],
      "metadata": {
        "id": "_Du0AtG8saaO"
      },
      "execution_count": null,
      "outputs": []
    },
    {
      "cell_type": "code",
      "source": [
        "# 하나의 feature를 이용할 때보다 여러 feature를 사용할 때 정확도가 올라가는 것을 알 수 있음\n",
        "# 서로 간의 feature가 연관성이 있을 정도로 영향력이 있음\n",
        "# 편향적으로 군집되어 있는 data에 따라 리니어 리그레션은 비효과적 > Decision Tree Regression 사용\n",
        "print('다중 선형 회귀, R2:{:.2f}'.format(r2_score(y_test, y_pred)))"
      ],
      "metadata": {
        "colab": {
          "base_uri": "https://localhost:8080/"
        },
        "id": "ZDoYmtkwxn2p",
        "outputId": "70afa6a7-0b6c-437d-b927-9ff2a3550049"
      },
      "execution_count": null,
      "outputs": [
        {
          "output_type": "stream",
          "name": "stdout",
          "text": [
            "다중 선형 회귀, R2:0.50\n"
          ]
        }
      ]
    },
    {
      "cell_type": "code",
      "source": [
        "# Decision Tree Regressor\n",
        "# 'max_depth=5' 파라미터 지정해서 다시 보완, 정확도도 살짝 올라가고 그래프도 완만해짐\n",
        "from sklearn.tree import DecisionTreeRegressor\n",
        "dt_regr = DecisionTreeRegressor(max_depth=5)  "
      ],
      "metadata": {
        "id": "_aCFUj0Mx2QG"
      },
      "execution_count": null,
      "outputs": []
    },
    {
      "cell_type": "code",
      "source": [
        "# 학습\n",
        "dt_regr.fit(X_train['s6'].values.reshape((-1,1)), y_train)"
      ],
      "metadata": {
        "colab": {
          "base_uri": "https://localhost:8080/",
          "height": 75
        },
        "id": "59KDvY4f0BWG",
        "outputId": "28c1bd51-b886-495d-a638-f68e2b7843b7"
      },
      "execution_count": null,
      "outputs": [
        {
          "output_type": "execute_result",
          "data": {
            "text/plain": [
              "DecisionTreeRegressor(max_depth=5)"
            ],
            "text/html": [
              "<style>#sk-container-id-4 {color: black;background-color: white;}#sk-container-id-4 pre{padding: 0;}#sk-container-id-4 div.sk-toggleable {background-color: white;}#sk-container-id-4 label.sk-toggleable__label {cursor: pointer;display: block;width: 100%;margin-bottom: 0;padding: 0.3em;box-sizing: border-box;text-align: center;}#sk-container-id-4 label.sk-toggleable__label-arrow:before {content: \"▸\";float: left;margin-right: 0.25em;color: #696969;}#sk-container-id-4 label.sk-toggleable__label-arrow:hover:before {color: black;}#sk-container-id-4 div.sk-estimator:hover label.sk-toggleable__label-arrow:before {color: black;}#sk-container-id-4 div.sk-toggleable__content {max-height: 0;max-width: 0;overflow: hidden;text-align: left;background-color: #f0f8ff;}#sk-container-id-4 div.sk-toggleable__content pre {margin: 0.2em;color: black;border-radius: 0.25em;background-color: #f0f8ff;}#sk-container-id-4 input.sk-toggleable__control:checked~div.sk-toggleable__content {max-height: 200px;max-width: 100%;overflow: auto;}#sk-container-id-4 input.sk-toggleable__control:checked~label.sk-toggleable__label-arrow:before {content: \"▾\";}#sk-container-id-4 div.sk-estimator input.sk-toggleable__control:checked~label.sk-toggleable__label {background-color: #d4ebff;}#sk-container-id-4 div.sk-label input.sk-toggleable__control:checked~label.sk-toggleable__label {background-color: #d4ebff;}#sk-container-id-4 input.sk-hidden--visually {border: 0;clip: rect(1px 1px 1px 1px);clip: rect(1px, 1px, 1px, 1px);height: 1px;margin: -1px;overflow: hidden;padding: 0;position: absolute;width: 1px;}#sk-container-id-4 div.sk-estimator {font-family: monospace;background-color: #f0f8ff;border: 1px dotted black;border-radius: 0.25em;box-sizing: border-box;margin-bottom: 0.5em;}#sk-container-id-4 div.sk-estimator:hover {background-color: #d4ebff;}#sk-container-id-4 div.sk-parallel-item::after {content: \"\";width: 100%;border-bottom: 1px solid gray;flex-grow: 1;}#sk-container-id-4 div.sk-label:hover label.sk-toggleable__label {background-color: #d4ebff;}#sk-container-id-4 div.sk-serial::before {content: \"\";position: absolute;border-left: 1px solid gray;box-sizing: border-box;top: 0;bottom: 0;left: 50%;z-index: 0;}#sk-container-id-4 div.sk-serial {display: flex;flex-direction: column;align-items: center;background-color: white;padding-right: 0.2em;padding-left: 0.2em;position: relative;}#sk-container-id-4 div.sk-item {position: relative;z-index: 1;}#sk-container-id-4 div.sk-parallel {display: flex;align-items: stretch;justify-content: center;background-color: white;position: relative;}#sk-container-id-4 div.sk-item::before, #sk-container-id-4 div.sk-parallel-item::before {content: \"\";position: absolute;border-left: 1px solid gray;box-sizing: border-box;top: 0;bottom: 0;left: 50%;z-index: -1;}#sk-container-id-4 div.sk-parallel-item {display: flex;flex-direction: column;z-index: 1;position: relative;background-color: white;}#sk-container-id-4 div.sk-parallel-item:first-child::after {align-self: flex-end;width: 50%;}#sk-container-id-4 div.sk-parallel-item:last-child::after {align-self: flex-start;width: 50%;}#sk-container-id-4 div.sk-parallel-item:only-child::after {width: 0;}#sk-container-id-4 div.sk-dashed-wrapped {border: 1px dashed gray;margin: 0 0.4em 0.5em 0.4em;box-sizing: border-box;padding-bottom: 0.4em;background-color: white;}#sk-container-id-4 div.sk-label label {font-family: monospace;font-weight: bold;display: inline-block;line-height: 1.2em;}#sk-container-id-4 div.sk-label-container {text-align: center;}#sk-container-id-4 div.sk-container {/* jupyter's `normalize.less` sets `[hidden] { display: none; }` but bootstrap.min.css set `[hidden] { display: none !important; }` so we also need the `!important` here to be able to override the default hidden behavior on the sphinx rendered scikit-learn.org. See: https://github.com/scikit-learn/scikit-learn/issues/21755 */display: inline-block !important;position: relative;}#sk-container-id-4 div.sk-text-repr-fallback {display: none;}</style><div id=\"sk-container-id-4\" class=\"sk-top-container\"><div class=\"sk-text-repr-fallback\"><pre>DecisionTreeRegressor(max_depth=5)</pre><b>In a Jupyter environment, please rerun this cell to show the HTML representation or trust the notebook. <br />On GitHub, the HTML representation is unable to render, please try loading this page with nbviewer.org.</b></div><div class=\"sk-container\" hidden><div class=\"sk-item\"><div class=\"sk-estimator sk-toggleable\"><input class=\"sk-toggleable__control sk-hidden--visually\" id=\"sk-estimator-id-4\" type=\"checkbox\" checked><label for=\"sk-estimator-id-4\" class=\"sk-toggleable__label sk-toggleable__label-arrow\">DecisionTreeRegressor</label><div class=\"sk-toggleable__content\"><pre>DecisionTreeRegressor(max_depth=5)</pre></div></div></div></div></div>"
            ]
          },
          "metadata": {},
          "execution_count": 59
        }
      ]
    },
    {
      "cell_type": "code",
      "source": [
        "# 예측\n",
        "y_pred = dt_regr.predict(X_test['s6'].values.reshape((-1,1)))\n"
      ],
      "metadata": {
        "id": "RBqZ7qwS0WD2"
      },
      "execution_count": null,
      "outputs": []
    },
    {
      "cell_type": "code",
      "source": [
        "print('단순 결정 트리 회귀 R2: {:.2f}',format(r2_score(y_test, y_pred)))"
      ],
      "metadata": {
        "colab": {
          "base_uri": "https://localhost:8080/"
        },
        "id": "bbRSGopN0mwO",
        "outputId": "c02ef0b8-c246-4f2d-e69f-2c359de4cabb"
      },
      "execution_count": null,
      "outputs": [
        {
          "output_type": "stream",
          "name": "stdout",
          "text": [
            "단순 결정 트리 회귀 R2: {:.2f} 0.1381258997489918\n"
          ]
        }
      ]
    },
    {
      "cell_type": "code",
      "source": [
        "# linear line의 생성\n",
        "line_x = np.linspace(np.min(X_test['s6']), np.max(X_test['s6']), 10) # x는 테스트 값\n",
        "line_y = dt_regr.predict(line_x.reshape((-1,1))) # y는 예측한 값\n",
        "\n",
        "print(line_x)\n",
        "print(line_y)\n",
        "\n",
        "\n",
        "# test data\n",
        "plt.scatter(X_test['s6'], y_test, s=10, c='black')\n",
        "plt.plot(line_x, line_y, c='red')\n",
        "plt.legend(['Test Data Sample','Regression line'])"
      ],
      "metadata": {
        "colab": {
          "base_uri": "https://localhost:8080/",
          "height": 522
        },
        "id": "23mc9aet08IX",
        "outputId": "9710c2ea-b2cb-490b-cc0b-cf6a4088f49f"
      },
      "execution_count": null,
      "outputs": [
        {
          "output_type": "stream",
          "name": "stdout",
          "text": [
            "[-0.12948301 -0.10002803 -0.07057305 -0.04111806 -0.01166308  0.0177919\n",
            "  0.04724688  0.07670187  0.10615685  0.13561183]\n",
            "[118.41176471 118.41176471 118.41176471 125.75       118.63636364\n",
            " 150.42857143 197.57692308 202.66666667 202.66666667 263.        ]\n"
          ]
        },
        {
          "output_type": "execute_result",
          "data": {
            "text/plain": [
              "<matplotlib.legend.Legend at 0x7fde49cc9cc0>"
            ]
          },
          "metadata": {},
          "execution_count": 61
        },
        {
          "output_type": "display_data",
          "data": {
            "text/plain": [
              "<Figure size 640x480 with 1 Axes>"
            ],
            "image/png": "[encoded data removed]"
          },
          "metadata": {}
        }
      ]
    },
    {
      "cell_type": "code",
      "source": [
        "########################################################################################"
      ],
      "metadata": {
        "id": "MAvbFLWN1QGm"
      },
      "execution_count": null,
      "outputs": []
    },
    {
      "cell_type": "code",
      "source": [
        "# 다중 feature 사용\n",
        "mt_regre = DecisionTreeRegressor(max_depth=3)\n",
        "mt_regre.fit(X_train, y_train)\n",
        "y_pred = mt_regre.predict(X_test)\n",
        "print('다중 결정 트리 회귀, r2: {:.2f}'.format(r2_score(y_test, y_pred)))"
      ],
      "metadata": {
        "colab": {
          "base_uri": "https://localhost:8080/"
        },
        "id": "I5xvk7se5REv",
        "outputId": "7e4852d7-333e-4176-ab74-55d3ac1ee63e"
      },
      "execution_count": null,
      "outputs": [
        {
          "output_type": "stream",
          "name": "stdout",
          "text": [
            "다중 결정 트리 회귀, r2: 0.35\n"
          ]
        }
      ]
    },
    {
      "cell_type": "code",
      "source": [
        "# Support Vector Machine Regressor\n",
        "\n",
        "from sklearn.svm import SVR   # SVC, SVR 둘다 가능\n",
        "svm_regre = SVR()\n",
        "svm_regre.fit(X_train['s6'].values.reshape((-1,1)), y_train)\n",
        "# 예측\n",
        "y_pred = svm_regre.predict(X_test['s6'].values.reshape((-1,1)))\n",
        "print('단순 서포트 벡터 머신 회귀, R2: {:.2f}'.format(r2_score(y_test, y_pred)))\n",
        "\n",
        "# R2 : 0.06 값, 너무 낮다. 방안을 찾아야 된다."
      ],
      "metadata": {
        "colab": {
          "base_uri": "https://localhost:8080/"
        },
        "id": "MLds4fOD5Y0G",
        "outputId": "55b8fe18-f36f-4c0e-a29f-62a8bb2ec0e0"
      },
      "execution_count": null,
      "outputs": [
        {
          "output_type": "stream",
          "name": "stdout",
          "text": [
            "단순 서포트 벡터 머신 회귀, R2: 0.06\n"
          ]
        }
      ]
    },
    {
      "cell_type": "code",
      "source": [
        "svm_regr = SVR(C=2)\n",
        "svm_regr.fit(X_train, y_train)\n",
        "y_pred = svm_regr.predict(X_test)\n",
        "print('다중 서포트 벡터 머신 회귀, R2: {:.2f}'.format(r2_score(y_test, y_pred)))\n"
      ],
      "metadata": {
        "colab": {
          "base_uri": "https://localhost:8080/"
        },
        "id": "1BVJLmic8jmB",
        "outputId": "32ca8acf-4add-4f19-d3f3-5786e561e63c"
      },
      "execution_count": null,
      "outputs": [
        {
          "output_type": "stream",
          "name": "stdout",
          "text": [
            "다중 서포트 벡터 머신 회귀, R2: 0.29\n"
          ]
        }
      ]
    },
    {
      "cell_type": "code",
      "source": [
        "# 새로운 데이터 유입을 생각하고 그래프가 어느정도 완만한게.. data를 노말하게 허용\n",
        "# for문 적용하여 최적의 i값 조사\n",
        "for i in [1,2,3,4,5,6,7,8,9,10,11,12,13,14,15,16,17,18,19,20]:\n",
        "  svm_regr = SVR(C=i)\n",
        "  svm_regr.fit(X_train, y_train)\n",
        "  y_pred = svm_regr.predict(X_test)\n",
        "  print('다중 서포트 벡터 머신 회귀, i={} R2: {:.2f}'.format(i,r2_score(y_test, y_pred)))\n"
      ],
      "metadata": {
        "colab": {
          "base_uri": "https://localhost:8080/"
        },
        "id": "tA5UhXu-9ZUX",
        "outputId": "47742810-d827-41fd-a89c-4e194d48be2b"
      },
      "execution_count": null,
      "outputs": [
        {
          "output_type": "stream",
          "name": "stdout",
          "text": [
            "다중 서포트 벡터 머신 회귀, i=1 R2: 0.17\n",
            "다중 서포트 벡터 머신 회귀, i=2 R2: 0.29\n",
            "다중 서포트 벡터 머신 회귀, i=3 R2: 0.35\n",
            "다중 서포트 벡터 머신 회귀, i=4 R2: 0.39\n",
            "다중 서포트 벡터 머신 회귀, i=5 R2: 0.42\n",
            "다중 서포트 벡터 머신 회귀, i=6 R2: 0.44\n",
            "다중 서포트 벡터 머신 회귀, i=7 R2: 0.46\n",
            "다중 서포트 벡터 머신 회귀, i=8 R2: 0.47\n",
            "다중 서포트 벡터 머신 회귀, i=9 R2: 0.48\n",
            "다중 서포트 벡터 머신 회귀, i=10 R2: 0.49\n",
            "다중 서포트 벡터 머신 회귀, i=11 R2: 0.49\n",
            "다중 서포트 벡터 머신 회귀, i=12 R2: 0.50\n",
            "다중 서포트 벡터 머신 회귀, i=13 R2: 0.50\n",
            "다중 서포트 벡터 머신 회귀, i=14 R2: 0.50\n",
            "다중 서포트 벡터 머신 회귀, i=15 R2: 0.50\n",
            "다중 서포트 벡터 머신 회귀, i=16 R2: 0.50\n",
            "다중 서포트 벡터 머신 회귀, i=17 R2: 0.50\n",
            "다중 서포트 벡터 머신 회귀, i=18 R2: 0.50\n",
            "다중 서포트 벡터 머신 회귀, i=19 R2: 0.50\n",
            "다중 서포트 벡터 머신 회귀, i=20 R2: 0.50\n"
          ]
        }
      ]
    },
    {
      "cell_type": "code",
      "source": [
        "# Multi Layer Perceptron Regressor\n",
        "from sklearn.neural_network import MLPRegressor\n",
        "mlp_regr = MLPRegressor(hidden_layer_sizes=200, max_iter=400) # Parameters 변경\n",
        "mlp_regr.fit(X_train, y_train)\n",
        "y_pred = mlp_regr.predict(X_test)\n",
        "print('다중 MLP 회귀 R2: {:.2f}'.format(r2_score(y_test, y_pred)))"
      ],
      "metadata": {
        "colab": {
          "base_uri": "https://localhost:8080/"
        },
        "id": "mLi3dviq9vl3",
        "outputId": "fa3238c4-91eb-40e4-b746-e4f5315f03da"
      },
      "execution_count": null,
      "outputs": [
        {
          "output_type": "stream",
          "name": "stdout",
          "text": [
            "다중 MLP 회귀 R2: 0.12\n"
          ]
        },
        {
          "output_type": "stream",
          "name": "stderr",
          "text": [
            "/usr/local/lib/python3.10/dist-packages/sklearn/neural_network/_multilayer_perceptron.py:686: ConvergenceWarning: Stochastic Optimizer: Maximum iterations (400) reached and the optimization hasn't converged yet.\n",
            "  warnings.warn(\n"
          ]
        }
      ]
    },
    {
      "cell_type": "code",
      "source": [],
      "metadata": {
        "id": "HpJ4mqeDAMpX"
      },
      "execution_count": null,
      "outputs": []
    }
  ]
}